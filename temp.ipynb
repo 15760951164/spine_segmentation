{
 "cells": [
  {
   "cell_type": "code",
   "execution_count": 38,
   "metadata": {},
   "outputs": [],
   "source": [
    "import json\n",
    "import os\n",
    "import glob\n",
    "import numpy as np\n",
    "\n",
    "def read_max_value(file):\n",
    "\n",
    "    with open(file, 'r') as f:\n",
    "        data = f.read()\n",
    "        anno = json.loads(data)\n",
    "\n",
    "    v_list = []\n",
    "    \n",
    "    for i in range(len(anno)):\n",
    "        \n",
    "    #     v_list.append(float(anno[i][\"value\"]))\n",
    "        \n",
    "        if int(anno[i][\"label\"]) == 25:\n",
    "            print(file)\n",
    "\n",
    "    return v_list\n",
    "\n",
    "def get_landmark_v(base_folder):\n",
    "\n",
    "    v_list = []\n",
    "    \n",
    "    # for folder in os.listdir(base_folder):\n",
    "\n",
    "    # folder = os.path.join(base_folder, folder)\n",
    "    \n",
    "    json_path = glob.glob(os.path.join(base_folder, \"*ctd*.json\"))[0]\n",
    "    \n",
    "    v_list += read_max_value(json_path)\n",
    "    \n",
    "    return v_list\n",
    "\n",
    "f = r\"test_data\\Verse2020\"\n",
    "\n",
    "for i in os.listdir(f):\n",
    "\n",
    "    base_folder = os.path.join(f, i)\n",
    "    if os.path.isdir(base_folder):\n",
    "        res = get_landmark_v(base_folder)\n",
    "        #print(f\"{i}  #mean_value = {np.array(res).mean():.3f}\")"
   ]
  },
  {
   "cell_type": "code",
   "execution_count": 31,
   "metadata": {},
   "outputs": [
    {
     "name": "stdout",
     "output_type": "stream",
     "text": [
      "[0, 1, 2, 3]\n"
     ]
    }
   ],
   "source": [
    "def find_max_continuous_coords(coords_list, step=1):\n",
    "\n",
    "    label_list = coords_list\n",
    "    label_list.append(-999)\n",
    "\n",
    "    continuous_label = []\n",
    "    max_continuous_label = []\n",
    "\n",
    "    for i in range(len(label_list)-1):\n",
    "        curr_index = i\n",
    "        next_index = i + 1\n",
    "        \n",
    "        if label_list[next_index] == label_list[curr_index] + step:\n",
    "            continuous_label.append(curr_index)\n",
    "        else:\n",
    "            continuous_label.append(curr_index)\n",
    "            if len(continuous_label) > len(max_continuous_label):\n",
    "                max_continuous_label = continuous_label.copy()\n",
    "            continuous_label.clear()\n",
    "\n",
    "    if len(max_continuous_label) > len(continuous_label):\n",
    "        return max_continuous_label\n",
    "    else:\n",
    "        return continuous_label\n",
    "    \n",
    "l = [17, 18, 19, 20, 12, 22, 23, 24]\n",
    "o = find_max_continuous_coords(l)\n",
    "print(o)"
   ]
  }
 ],
 "metadata": {
  "kernelspec": {
   "display_name": "pytorch2.0.1",
   "language": "python",
   "name": "python3"
  },
  "language_info": {
   "codemirror_mode": {
    "name": "ipython",
    "version": 3
   },
   "file_extension": ".py",
   "mimetype": "text/x-python",
   "name": "python",
   "nbconvert_exporter": "python",
   "pygments_lexer": "ipython3",
   "version": "3.10.9"
  }
 },
 "nbformat": 4,
 "nbformat_minor": 2
}
